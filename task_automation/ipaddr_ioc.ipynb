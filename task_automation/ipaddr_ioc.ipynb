{
 "cells": [
  {
   "cell_type": "markdown",
   "id": "7bab3cf4-8c68-4b29-b389-3f46a263e098",
   "metadata": {
    "tags": []
   },
   "source": [
    "## Introduction\n",
    "\n",
    "This Jupyter notebook is concerned with searching for IP addresses within well-known databases and services, listed below:\n",
    "\n",
    "- [AbuseIPDB](https://www.abuseipdb.com/)\n",
    "- [GreyNoise](https://www.greynoise.io/)\n",
    "- [Pulsedive](https://pulsedive.com/)\n",
    "- [VirusTotal](https://www.virustotal.com)"
   ]
  },
  {
   "cell_type": "markdown",
   "id": "04711508-f87a-4b38-8e61-8e0c9daaf16f",
   "metadata": {
    "tags": []
   },
   "source": [
    "#### API keys"
   ]
  },
  {
   "cell_type": "code",
   "execution_count": null,
   "id": "2648dce0-0d1c-4ab9-b828-a31b25071fd2",
   "metadata": {},
   "outputs": [],
   "source": [
    "# insert yous API keys below\n",
    "\n",
    "abuseIpDbApiKey = 'your_abuseipdb_key_here'\n",
    "greyNoiseApiKey = 'your_greynoise_key_here'\n",
    "pulsediveApiKey = 'your_pulsedive_key_here'\n",
    "virusTotalApiKey = 'your_virustotal_key_here'"
   ]
  },
  {
   "cell_type": "code",
   "execution_count": null,
   "id": "07885677-6f5b-4aae-ab70-64dd0dbc89c1",
   "metadata": {},
   "outputs": [],
   "source": [
    "# Importing packages\n",
    "\n",
    "import requests"
   ]
  },
  {
   "cell_type": "code",
   "execution_count": 7,
   "id": "4dba3e43-1bc5-4ce7-86a8-2e34dd04e066",
   "metadata": {},
   "outputs": [],
   "source": [
    "# Function for querying AbuseIPDB\n",
    "\n",
    "def queryAbuseIpDb(query):\n",
    "    try:\n",
    "        response = requests.get(\n",
    "            'https://api.abuseipdb.com/api/v2/check',\n",
    "            headers={\n",
    "                'Key': abuseIpDbApiKey,\n",
    "                'Accept': 'application/json'\n",
    "            },\n",
    "            params={'ipAddress': query}\n",
    "        )\n",
    "    except requests.exceptions.RequestException as e:\n",
    "        print(e)\n",
    "        return None\n",
    "    else:\n",
    "        return response.json()"
   ]
  },
  {
   "cell_type": "code",
   "execution_count": null,
   "id": "0e10d297-8f4e-410a-a22e-a8df46e4d423",
   "metadata": {},
   "outputs": [],
   "source": [
    "# Function for querying GreyNoise\n",
    "\n",
    "def queryGreyNoise(query):\n",
    "    try:\n",
    "        response = requests.get(\n",
    "            'https://api.greynoise.io/v3/community/'+query,\n",
    "            headers={\n",
    "                'accept': 'application/json',\n",
    "                'key': greyNoiseApiKey\n",
    "            },\n",
    "        )\n",
    "    except requests.exceptions.RequestException as e:\n",
    "        print(e)\n",
    "        return None\n",
    "    else:\n",
    "        return response.json()"
   ]
  },
  {
   "cell_type": "code",
   "execution_count": null,
   "id": "7d78499e-2a3e-4540-8e77-f02d58403e33",
   "metadata": {},
   "outputs": [],
   "source": [
    "# Function for querying Pulsedive\n",
    "\n",
    "def queryPulsedive(query):\n",
    "    try:\n",
    "        response = requests.get(\n",
    "            'https://pulsedive.com/api/explore.php',\n",
    "            params={\n",
    "                'q': 'ioc='+query,\n",
    "                'limit': '5',\n",
    "                'pretty': '1',\n",
    "                'key': pulsediveApiKey\n",
    "            }\n",
    "        )\n",
    "    except requests.exceptions.RequestException as e:\n",
    "        print(e)\n",
    "        return None\n",
    "    else:\n",
    "        return response.json()"
   ]
  },
  {
   "cell_type": "code",
   "execution_count": null,
   "id": "cda34e07-3fcd-42ac-b893-8341909ea500",
   "metadata": {},
   "outputs": [],
   "source": [
    "# Function for querying AbuseIPDB\n",
    "\n",
    "def queryVirusTotal(query):\n",
    "    try:\n",
    "        response = requests.get(\n",
    "            'https://www.virustotal.com/api/v3/search',\n",
    "            headers={'x-apikey': virusTotalApiKey},\n",
    "            params={'query': query}\n",
    "        )\n",
    "    except requests.exceptions.RequestException as e:\n",
    "        print(e)\n",
    "        return None\n",
    "    else:\n",
    "        return response.json()"
   ]
  }
 ],
 "metadata": {
  "kernelspec": {
   "display_name": "Python 3 (ipykernel)",
   "language": "python",
   "name": "python3"
  },
  "language_info": {
   "codemirror_mode": {
    "name": "ipython",
    "version": 3
   },
   "file_extension": ".py",
   "mimetype": "text/x-python",
   "name": "python",
   "nbconvert_exporter": "python",
   "pygments_lexer": "ipython3",
   "version": "3.10.9"
  }
 },
 "nbformat": 4,
 "nbformat_minor": 5
}
